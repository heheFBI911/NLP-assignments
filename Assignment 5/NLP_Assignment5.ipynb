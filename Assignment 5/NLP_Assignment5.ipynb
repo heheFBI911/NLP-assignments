{
  "nbformat": 4,
  "nbformat_minor": 0,
  "metadata": {
    "colab": {
      "provenance": []
    },
    "kernelspec": {
      "name": "python3",
      "display_name": "Python 3"
    },
    "language_info": {
      "name": "python"
    }
  },
  "cells": [
    {
      "cell_type": "code",
      "execution_count": null,
      "metadata": {
        "id": "nubzDtO5gwXK"
      },
      "outputs": [],
      "source": [
        "#Morphology is the study of the way words are built up from smaller meaning bearing units.\n",
        "#Study and understand the concepts of morphology by the use of add delete table."
      ]
    },
    {
      "cell_type": "code",
      "source": [
        "class Morphology:\n",
        "    def __init__(self):\n",
        "        self.words = {\n",
        "            \"help\": \"helpful\",\n",
        "            \"happy\": \"unhappy\",\n",
        "            \"read\": \"reading\",\n",
        "            \"nation\": \"national\",\n",
        "            \"child\": \"children\",\n",
        "            \"act\": \"actor\",\n",
        "            \"run\": \"runner\",\n",
        "            \"govern\": \"government\",\n",
        "            \"write\": \"rewrite\"\n",
        "        }\n",
        "\n",
        "    def add_affix(self, word):\n",
        "        return self.words[word] if word in self.words else \"No affixation rule found.\"\n",
        "\n",
        "    def delete_affix(self, affixed_word):\n",
        "        for base, modified in self.words.items():\n",
        "            if affixed_word == modified:\n",
        "                return base\n",
        "        return \"No matching base word found.\"\n",
        "\n",
        "    def display_table(self):\n",
        "        print(\"| Base Word | Addition (Affixation) | New Word | Deletion (Clipping) | Base Word |\")\n",
        "        print(\"|-----------|-----------------------|----------|----------------------|-----------|\")\n",
        "        for base, modified in self.words.items():\n",
        "            affix = modified.replace(base, \"\")\n",
        "            print(f\"| {base:<9} | +{affix:<21} | {modified:<8} | -{affix:<20} | {base:<9} |\")"
      ],
      "metadata": {
        "id": "rLo2h2sRh59R"
      },
      "execution_count": null,
      "outputs": []
    },
    {
      "cell_type": "code",
      "source": [
        "if __name__ == \"__main__\":\n",
        "    morph = Morphology()\n",
        "    morph.display_table()\n",
        "\n",
        "    # Interactive Example\n",
        "    word = input(\"Enter a base word to add affix: \").strip().lower()\n",
        "    print(\"New word after affixation:\", morph.add_affix(word))\n",
        "\n",
        "    affixed_word = input(\"Enter a word with an affix to remove it: \").strip().lower()\n",
        "    print(\"Root word after affix removal:\", morph.delete_affix(affixed_word))"
      ],
      "metadata": {
        "colab": {
          "base_uri": "https://localhost:8080/"
        },
        "id": "c_T0Dyk9h-cI",
        "outputId": "d551931f-2b3f-457b-84a7-35330aa3e26a"
      },
      "execution_count": null,
      "outputs": [
        {
          "output_type": "stream",
          "name": "stdout",
          "text": [
            "| Base Word | Addition (Affixation) | New Word | Deletion (Clipping) | Base Word |\n",
            "|-----------|-----------------------|----------|----------------------|-----------|\n",
            "| help      | +ful                   | helpful  | -ful                  | help      |\n",
            "| happy     | +un                    | unhappy  | -un                   | happy     |\n",
            "| read      | +ing                   | reading  | -ing                  | read      |\n",
            "| nation    | +al                    | national | -al                   | nation    |\n",
            "| child     | +ren                   | children | -ren                  | child     |\n",
            "| act       | +or                    | actor    | -or                   | act       |\n",
            "| run       | +ner                   | runner   | -ner                  | run       |\n",
            "| govern    | +ment                  | government | -ment                 | govern    |\n",
            "| write     | +re                    | rewrite  | -re                   | write     |\n",
            "Enter a base word to add affix: help\n",
            "New word after affixation: helpful\n",
            "Enter a word with an affix to remove it: government\n",
            "Root word after affix removal: govern\n"
          ]
        }
      ]
    }
  ]
}
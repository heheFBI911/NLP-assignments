{
  "nbformat": 4,
  "nbformat_minor": 0,
  "metadata": {
    "colab": {
      "provenance": []
    },
    "kernelspec": {
      "name": "python3",
      "display_name": "Python 3"
    },
    "language_info": {
      "name": "python"
    }
  },
  "cells": [
    {
      "cell_type": "code",
      "execution_count": null,
      "metadata": {
        "id": "cvgFm7N3YcKl"
      },
      "outputs": [],
      "source": [
        "#Perform tokenization (whitespace, punctuation- based, treebank, tweet, MWE) using NLTK library.\n",
        "#Use Porter stemmer and snowball stemmer for stemming.\n",
        "#Use any technique for lemmatization."
      ]
    },
    {
      "cell_type": "code",
      "source": [
        "import nltk\n",
        "from nltk.tokenize import word_tokenize, sent_tokenize, TreebankWordTokenizer, TweetTokenizer, MWETokenizer\n",
        "from nltk.stem import PorterStemmer, SnowballStemmer\n",
        "from nltk.stem import WordNetLemmatizer"
      ],
      "metadata": {
        "id": "pWepTcY_ZwW7"
      },
      "execution_count": null,
      "outputs": []
    },
    {
      "cell_type": "code",
      "source": [
        "# Download necessary NLTK data\n",
        "nltk.download('punkt')\n",
        "nltk.download('wordnet')\n",
        "nltk.download('omw-1.4')\n",
        "nltk.download('punkt_tab')"
      ],
      "metadata": {
        "colab": {
          "base_uri": "https://localhost:8080/"
        },
        "id": "l7XiPU0zZ1kq",
        "outputId": "aacd0eaa-b788-4aef-e3a1-b477155ce980"
      },
      "execution_count": null,
      "outputs": [
        {
          "output_type": "stream",
          "name": "stderr",
          "text": [
            "[nltk_data] Downloading package punkt to /root/nltk_data...\n",
            "[nltk_data]   Package punkt is already up-to-date!\n",
            "[nltk_data] Downloading package wordnet to /root/nltk_data...\n",
            "[nltk_data]   Package wordnet is already up-to-date!\n",
            "[nltk_data] Downloading package omw-1.4 to /root/nltk_data...\n",
            "[nltk_data]   Package omw-1.4 is already up-to-date!\n",
            "[nltk_data] Downloading package punkt_tab to /root/nltk_data...\n",
            "[nltk_data]   Unzipping tokenizers/punkt_tab.zip.\n"
          ]
        },
        {
          "output_type": "execute_result",
          "data": {
            "text/plain": [
              "True"
            ]
          },
          "metadata": {},
          "execution_count": 7
        }
      ]
    },
    {
      "cell_type": "code",
      "source": [
        "# Example text\n",
        "text = \"\"\"The Uniform Civil Code is not just a law; it’s a step towards equality, justice, and unity in a diverse nation like India.\"\"\""
      ],
      "metadata": {
        "id": "tjCRnTZGZ5pQ"
      },
      "execution_count": null,
      "outputs": []
    },
    {
      "cell_type": "code",
      "source": [
        "# 1. Tokenization\n",
        "# Whitespace-based tokenization\n",
        "whitespace_tokens = text.split()\n",
        "whitespace_tokens"
      ],
      "metadata": {
        "colab": {
          "base_uri": "https://localhost:8080/"
        },
        "id": "mFzugbDnapoY",
        "outputId": "f6593f43-6820-444a-8088-a010c2dc679d"
      },
      "execution_count": null,
      "outputs": [
        {
          "output_type": "execute_result",
          "data": {
            "text/plain": [
              "['The',\n",
              " 'Uniform',\n",
              " 'Civil',\n",
              " 'Code',\n",
              " 'is',\n",
              " 'not',\n",
              " 'just',\n",
              " 'a',\n",
              " 'law;',\n",
              " 'it’s',\n",
              " 'a',\n",
              " 'step',\n",
              " 'towards',\n",
              " 'equality,',\n",
              " 'justice,',\n",
              " 'and',\n",
              " 'unity',\n",
              " 'in',\n",
              " 'a',\n",
              " 'diverse',\n",
              " 'nation',\n",
              " 'like',\n",
              " 'India.']"
            ]
          },
          "metadata": {},
          "execution_count": 11
        }
      ]
    },
    {
      "cell_type": "code",
      "source": [
        "# Punctuation-based tokenization using word_tokenize\n",
        "punctuation_tokens = word_tokenize(text)\n",
        "punctuation_tokens"
      ],
      "metadata": {
        "colab": {
          "base_uri": "https://localhost:8080/"
        },
        "id": "ZZwMx741arBf",
        "outputId": "17dc8aef-ea99-43aa-d308-178b3cdc55f1"
      },
      "execution_count": null,
      "outputs": [
        {
          "output_type": "execute_result",
          "data": {
            "text/plain": [
              "['The',\n",
              " 'Uniform',\n",
              " 'Civil',\n",
              " 'Code',\n",
              " 'is',\n",
              " 'not',\n",
              " 'just',\n",
              " 'a',\n",
              " 'law',\n",
              " ';',\n",
              " 'it',\n",
              " '’',\n",
              " 's',\n",
              " 'a',\n",
              " 'step',\n",
              " 'towards',\n",
              " 'equality',\n",
              " ',',\n",
              " 'justice',\n",
              " ',',\n",
              " 'and',\n",
              " 'unity',\n",
              " 'in',\n",
              " 'a',\n",
              " 'diverse',\n",
              " 'nation',\n",
              " 'like',\n",
              " 'India',\n",
              " '.']"
            ]
          },
          "metadata": {},
          "execution_count": 12
        }
      ]
    },
    {
      "cell_type": "code",
      "source": [
        "# Treebank tokenization\n",
        "treebank_tokenizer = TreebankWordTokenizer()\n",
        "treebank_tokens = treebank_tokenizer.tokenize(text)\n",
        "treebank_tokens"
      ],
      "metadata": {
        "colab": {
          "base_uri": "https://localhost:8080/"
        },
        "id": "aPsZ4egkazVX",
        "outputId": "9f4a4197-7d49-495e-a907-fda989f4a1e5"
      },
      "execution_count": null,
      "outputs": [
        {
          "output_type": "execute_result",
          "data": {
            "text/plain": [
              "['The',\n",
              " 'Uniform',\n",
              " 'Civil',\n",
              " 'Code',\n",
              " 'is',\n",
              " 'not',\n",
              " 'just',\n",
              " 'a',\n",
              " 'law',\n",
              " ';',\n",
              " 'it’s',\n",
              " 'a',\n",
              " 'step',\n",
              " 'towards',\n",
              " 'equality',\n",
              " ',',\n",
              " 'justice',\n",
              " ',',\n",
              " 'and',\n",
              " 'unity',\n",
              " 'in',\n",
              " 'a',\n",
              " 'diverse',\n",
              " 'nation',\n",
              " 'like',\n",
              " 'India',\n",
              " '.']"
            ]
          },
          "metadata": {},
          "execution_count": 13
        }
      ]
    },
    {
      "cell_type": "code",
      "source": [
        "# Tweet tokenization\n",
        "tweet_tokenizer = TweetTokenizer()\n",
        "tweet_tokens = tweet_tokenizer.tokenize(text)\n",
        "tweet_tokens"
      ],
      "metadata": {
        "colab": {
          "base_uri": "https://localhost:8080/"
        },
        "id": "_PuVj9WFa2dF",
        "outputId": "e16cc913-31d3-4762-9e6d-df3a2a8c688e"
      },
      "execution_count": null,
      "outputs": [
        {
          "output_type": "execute_result",
          "data": {
            "text/plain": [
              "['The',\n",
              " 'Uniform',\n",
              " 'Civil',\n",
              " 'Code',\n",
              " 'is',\n",
              " 'not',\n",
              " 'just',\n",
              " 'a',\n",
              " 'law',\n",
              " ';',\n",
              " 'it',\n",
              " '’',\n",
              " 's',\n",
              " 'a',\n",
              " 'step',\n",
              " 'towards',\n",
              " 'equality',\n",
              " ',',\n",
              " 'justice',\n",
              " ',',\n",
              " 'and',\n",
              " 'unity',\n",
              " 'in',\n",
              " 'a',\n",
              " 'diverse',\n",
              " 'nation',\n",
              " 'like',\n",
              " 'India',\n",
              " '.']"
            ]
          },
          "metadata": {},
          "execution_count": 14
        }
      ]
    },
    {
      "cell_type": "code",
      "source": [
        "# Define Multi-Word Expressions\n",
        "mwe_tokenizer = MWETokenizer([('Uniform', 'Civil', 'Code'), ('diverse', 'nation')])\n",
        "\n",
        "# Perform MWE tokenization\n",
        "mwe_tokens = mwe_tokenizer.tokenize(word_tokenize(text))\n",
        "\n",
        "mwe_tokens"
      ],
      "metadata": {
        "colab": {
          "base_uri": "https://localhost:8080/"
        },
        "id": "qaw_k0SMa5ZC",
        "outputId": "ee98dd8c-206f-43f2-f897-f191842f7887"
      },
      "execution_count": null,
      "outputs": [
        {
          "output_type": "execute_result",
          "data": {
            "text/plain": [
              "['The',\n",
              " 'Uniform_Civil_Code',\n",
              " 'is',\n",
              " 'not',\n",
              " 'just',\n",
              " 'a',\n",
              " 'law',\n",
              " ';',\n",
              " 'it',\n",
              " '’',\n",
              " 's',\n",
              " 'a',\n",
              " 'step',\n",
              " 'towards',\n",
              " 'equality',\n",
              " ',',\n",
              " 'justice',\n",
              " ',',\n",
              " 'and',\n",
              " 'unity',\n",
              " 'in',\n",
              " 'a',\n",
              " 'diverse_nation',\n",
              " 'like',\n",
              " 'India',\n",
              " '.']"
            ]
          },
          "metadata": {},
          "execution_count": 16
        }
      ]
    },
    {
      "cell_type": "code",
      "source": [
        "# 2. Stemming\n",
        "porter_stemmer = PorterStemmer()\n",
        "snowball_stemmer = SnowballStemmer(\"english\")"
      ],
      "metadata": {
        "id": "2TJf_eDSbdVh"
      },
      "execution_count": null,
      "outputs": []
    },
    {
      "cell_type": "code",
      "source": [
        "porter_stems = [porter_stemmer.stem(word) for word in punctuation_tokens]\n",
        "snowball_stems = [snowball_stemmer.stem(word) for word in punctuation_tokens]"
      ],
      "metadata": {
        "id": "hOH8mOnXbjNy"
      },
      "execution_count": null,
      "outputs": []
    },
    {
      "cell_type": "code",
      "source": [
        "print(\"\\nPorter Stemmer Results:\", porter_stems)"
      ],
      "metadata": {
        "colab": {
          "base_uri": "https://localhost:8080/"
        },
        "id": "cKYE4gdubmMo",
        "outputId": "a4d1e49d-3d54-47a4-b66a-130c64e2f777"
      },
      "execution_count": null,
      "outputs": [
        {
          "output_type": "stream",
          "name": "stdout",
          "text": [
            "\n",
            "Porter Stemmer Results: ['the', 'uniform', 'civil', 'code', 'is', 'not', 'just', 'a', 'law', ';', 'it', '’', 's', 'a', 'step', 'toward', 'equal', ',', 'justic', ',', 'and', 'uniti', 'in', 'a', 'divers', 'nation', 'like', 'india', '.']\n"
          ]
        }
      ]
    },
    {
      "cell_type": "code",
      "source": [
        "print(\"Snowball Stemmer Results:\", snowball_stems)"
      ],
      "metadata": {
        "colab": {
          "base_uri": "https://localhost:8080/"
        },
        "id": "cH2mfklEbpQ0",
        "outputId": "e2a3f698-3341-4cfb-cdcf-7e8950ea8444"
      },
      "execution_count": null,
      "outputs": [
        {
          "output_type": "stream",
          "name": "stdout",
          "text": [
            "Snowball Stemmer Results: ['the', 'uniform', 'civil', 'code', 'is', 'not', 'just', 'a', 'law', ';', 'it', '’', 's', 'a', 'step', 'toward', 'equal', ',', 'justic', ',', 'and', 'uniti', 'in', 'a', 'divers', 'nation', 'like', 'india', '.']\n"
          ]
        }
      ]
    },
    {
      "cell_type": "code",
      "source": [
        "# 3. Lemmatization\n",
        "lemmatizer = WordNetLemmatizer()\n",
        "lemmatized_words = [lemmatizer.lemmatize(word) for word in punctuation_tokens]"
      ],
      "metadata": {
        "id": "Sp4pkdU2bvog"
      },
      "execution_count": null,
      "outputs": []
    },
    {
      "cell_type": "code",
      "source": [
        "print(\"\\nLemmatization Results:\", lemmatized_words)"
      ],
      "metadata": {
        "colab": {
          "base_uri": "https://localhost:8080/"
        },
        "id": "m3wFNGRwbz0m",
        "outputId": "e587a7e3-03f1-4dca-fea8-7728b3aac6a5"
      },
      "execution_count": null,
      "outputs": [
        {
          "output_type": "stream",
          "name": "stdout",
          "text": [
            "\n",
            "Lemmatization Results: ['The', 'Uniform', 'Civil', 'Code', 'is', 'not', 'just', 'a', 'law', ';', 'it', '’', 's', 'a', 'step', 'towards', 'equality', ',', 'justice', ',', 'and', 'unity', 'in', 'a', 'diverse', 'nation', 'like', 'India', '.']\n"
          ]
        }
      ]
    }
  ]
}
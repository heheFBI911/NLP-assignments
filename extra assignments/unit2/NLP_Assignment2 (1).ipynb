{
  "nbformat": 4,
  "nbformat_minor": 0,
  "metadata": {
    "colab": {
      "provenance": []
    },
    "kernelspec": {
      "name": "python3",
      "display_name": "Python 3"
    },
    "language_info": {
      "name": "python"
    }
  },
  "cells": [
    {
      "cell_type": "code",
      "source": [
        "#Perform bag-of-words approach (count occurrence, normalized count occurrence)\n",
        "#TF-IDF on data.\n",
        "#Create embeddings using Word2Vec"
      ],
      "metadata": {
        "id": "X7ltPyIrcdql"
      },
      "execution_count": null,
      "outputs": []
    },
    {
      "cell_type": "code",
      "execution_count": null,
      "metadata": {
        "colab": {
          "base_uri": "https://localhost:8080/"
        },
        "id": "-6rgtog1S4vV",
        "outputId": "546fa4bb-3899-402b-9874-4b189b8789e1"
      },
      "outputs": [
        {
          "output_type": "stream",
          "name": "stdout",
          "text": [
            "Requirement already satisfied: numpy in /usr/local/lib/python3.11/dist-packages (1.26.4)\n",
            "Requirement already satisfied: pandas in /usr/local/lib/python3.11/dist-packages (2.2.2)\n",
            "Requirement already satisfied: scikit-learn in /usr/local/lib/python3.11/dist-packages (1.6.1)\n",
            "Requirement already satisfied: gensim in /usr/local/lib/python3.11/dist-packages (4.3.3)\n",
            "Requirement already satisfied: python-dateutil>=2.8.2 in /usr/local/lib/python3.11/dist-packages (from pandas) (2.8.2)\n",
            "Requirement already satisfied: pytz>=2020.1 in /usr/local/lib/python3.11/dist-packages (from pandas) (2024.2)\n",
            "Requirement already satisfied: tzdata>=2022.7 in /usr/local/lib/python3.11/dist-packages (from pandas) (2025.1)\n",
            "Requirement already satisfied: scipy>=1.6.0 in /usr/local/lib/python3.11/dist-packages (from scikit-learn) (1.13.1)\n",
            "Requirement already satisfied: joblib>=1.2.0 in /usr/local/lib/python3.11/dist-packages (from scikit-learn) (1.4.2)\n",
            "Requirement already satisfied: threadpoolctl>=3.1.0 in /usr/local/lib/python3.11/dist-packages (from scikit-learn) (3.5.0)\n",
            "Requirement already satisfied: smart-open>=1.8.1 in /usr/local/lib/python3.11/dist-packages (from gensim) (7.1.0)\n",
            "Requirement already satisfied: six>=1.5 in /usr/local/lib/python3.11/dist-packages (from python-dateutil>=2.8.2->pandas) (1.17.0)\n",
            "Requirement already satisfied: wrapt in /usr/local/lib/python3.11/dist-packages (from smart-open>=1.8.1->gensim) (1.17.2)\n"
          ]
        }
      ],
      "source": [
        "!pip install numpy pandas scikit-learn gensim"
      ]
    },
    {
      "cell_type": "code",
      "source": [
        "import pandas as pd\n",
        "from sklearn.feature_extraction.text import CountVectorizer, TfidfVectorizer\n",
        "from gensim.models import Word2Vec\n",
        "from nltk.tokenize import word_tokenize\n",
        "import nltk"
      ],
      "metadata": {
        "id": "6Rx0qFCmTmi4"
      },
      "execution_count": null,
      "outputs": []
    },
    {
      "cell_type": "code",
      "source": [
        "nltk.download('punkt')"
      ],
      "metadata": {
        "colab": {
          "base_uri": "https://localhost:8080/"
        },
        "id": "SG_aMD9CTprA",
        "outputId": "ff1d57a2-1dfd-42db-c59b-0ca0dff36e82"
      },
      "execution_count": null,
      "outputs": [
        {
          "output_type": "stream",
          "name": "stderr",
          "text": [
            "[nltk_data] Downloading package punkt to /root/nltk_data...\n",
            "[nltk_data]   Unzipping tokenizers/punkt.zip.\n"
          ]
        },
        {
          "output_type": "execute_result",
          "data": {
            "text/plain": [
              "True"
            ]
          },
          "metadata": {},
          "execution_count": 3
        }
      ]
    },
    {
      "cell_type": "code",
      "source": [
        "# Sample text data (Replace this with your dataset)\n",
        "documents = [\n",
        "    \"AI is transforming the future.\",\n",
        "    \"Machine learning is a part of AI.\",\n",
        "    \"Natural language processing is useful for AI applications.\"\n",
        "]"
      ],
      "metadata": {
        "id": "g8gKn38fbBE9"
      },
      "execution_count": null,
      "outputs": []
    },
    {
      "cell_type": "code",
      "source": [
        "# Convert to Pandas DataFrame\n",
        "df = pd.DataFrame(documents, columns=[\"Text\"])"
      ],
      "metadata": {
        "id": "aefExdYJbFVR"
      },
      "execution_count": null,
      "outputs": []
    },
    {
      "cell_type": "code",
      "source": [
        "vectorizer = CountVectorizer()\n",
        "bow_matrix = vectorizer.fit_transform(df[\"Text\"])"
      ],
      "metadata": {
        "id": "ja23iOUJbIQM"
      },
      "execution_count": null,
      "outputs": []
    },
    {
      "cell_type": "code",
      "source": [
        "# Convert to DataFrame for better visualization\n",
        "bow_df = pd.DataFrame(bow_matrix.toarray(), columns=vectorizer.get_feature_names_out())\n",
        "print(\"Bag-of-Words (Raw Count):\")\n",
        "print(bow_df)"
      ],
      "metadata": {
        "colab": {
          "base_uri": "https://localhost:8080/"
        },
        "id": "dI85EF7bbMKi",
        "outputId": "b1098b96-3bf2-4f28-abeb-d84937dbc936"
      },
      "execution_count": null,
      "outputs": [
        {
          "output_type": "stream",
          "name": "stdout",
          "text": [
            "Bag-of-Words (Raw Count):\n",
            "   ai  applications  for  future  is  language  learning  machine  natural  \\\n",
            "0   1             0    0       1   1         0         0        0        0   \n",
            "1   1             0    0       0   1         0         1        1        0   \n",
            "2   1             1    1       0   1         1         0        0        1   \n",
            "\n",
            "   of  part  processing  the  transforming  useful  \n",
            "0   0     0           0    1             1       0  \n",
            "1   1     1           0    0             0       0  \n",
            "2   0     0           1    0             0       1  \n"
          ]
        }
      ]
    },
    {
      "cell_type": "code",
      "source": [
        "from sklearn.preprocessing import normalize"
      ],
      "metadata": {
        "id": "Vzdj9J1vbO1q"
      },
      "execution_count": null,
      "outputs": []
    },
    {
      "cell_type": "code",
      "source": [
        "normalized_bow = normalize(bow_matrix, norm='l1', axis=1)  # L1 Normalization\n",
        "# Convert sparse matrix to dense array to solve shape mismatch.\n",
        "normalized_bow_dense = normalized_bow.toarray()\n",
        "normalized_bow_df = pd.DataFrame(normalized_bow_dense, columns=vectorizer.get_feature_names_out())\n",
        "print(\"\\nBag-of-Words (Normalized Count):\")\n",
        "print(normalized_bow_df)"
      ],
      "metadata": {
        "colab": {
          "base_uri": "https://localhost:8080/"
        },
        "id": "6ocWNSStbR6c",
        "outputId": "a965affb-9b42-4c9e-c027-926d1a35cc5d"
      },
      "execution_count": null,
      "outputs": [
        {
          "output_type": "stream",
          "name": "stdout",
          "text": [
            "\n",
            "Bag-of-Words (Normalized Count):\n",
            "         ai  applications    for  future        is  language  learning  \\\n",
            "0  0.200000         0.000  0.000     0.2  0.200000     0.000  0.000000   \n",
            "1  0.166667         0.000  0.000     0.0  0.166667     0.000  0.166667   \n",
            "2  0.125000         0.125  0.125     0.0  0.125000     0.125  0.000000   \n",
            "\n",
            "    machine  natural        of      part  processing  the  transforming  \\\n",
            "0  0.000000    0.000  0.000000  0.000000       0.000  0.2           0.2   \n",
            "1  0.166667    0.000  0.166667  0.166667       0.000  0.0           0.0   \n",
            "2  0.000000    0.125  0.000000  0.000000       0.125  0.0           0.0   \n",
            "\n",
            "   useful  \n",
            "0   0.000  \n",
            "1   0.000  \n",
            "2   0.125  \n"
          ]
        }
      ]
    },
    {
      "cell_type": "code",
      "source": [
        "# Initialize and fit TfidfVectorizer\n",
        "tfidf_vectorizer = TfidfVectorizer() # Initialize the TfidfVectorizer\n",
        "tfidf_matrix = tfidf_vectorizer.fit_transform(df[\"Text\"]) # Fit and transform"
      ],
      "metadata": {
        "id": "EYznxQsLbUQo"
      },
      "execution_count": null,
      "outputs": []
    },
    {
      "cell_type": "code",
      "source": [
        "# Convert to DataFrame for better visualization\n",
        "tfidf_df = pd.DataFrame(tfidf_matrix.toarray(), columns=tfidf_vectorizer.get_feature_names_out())\n",
        "print(\"\\nTF-IDF Representation:\")\n",
        "print(tfidf_df)"
      ],
      "metadata": {
        "colab": {
          "base_uri": "https://localhost:8080/"
        },
        "id": "3xXiVskNbvaQ",
        "outputId": "ccd6c403-f7ba-4ca3-f6c5-659581b7c11e"
      },
      "execution_count": null,
      "outputs": [
        {
          "output_type": "stream",
          "name": "stdout",
          "text": [
            "\n",
            "TF-IDF Representation:\n",
            "         ai  applications       for   future        is  language  learning  \\\n",
            "0  0.307144      0.000000  0.000000  0.52004  0.307144  0.000000  0.000000   \n",
            "1  0.272499      0.000000  0.000000  0.00000  0.272499  0.000000  0.461381   \n",
            "2  0.228215      0.386401  0.386401  0.00000  0.228215  0.386401  0.000000   \n",
            "\n",
            "    machine   natural        of      part  processing      the  transforming  \\\n",
            "0  0.000000  0.000000  0.000000  0.000000    0.000000  0.52004       0.52004   \n",
            "1  0.461381  0.000000  0.461381  0.461381    0.000000  0.00000       0.00000   \n",
            "2  0.000000  0.386401  0.000000  0.000000    0.386401  0.00000       0.00000   \n",
            "\n",
            "     useful  \n",
            "0  0.000000  \n",
            "1  0.000000  \n",
            "2  0.386401  \n"
          ]
        }
      ]
    },
    {
      "cell_type": "code",
      "source": [
        "# Download the 'punkt_tab' resource:\n",
        "nltk.download('punkt_tab')"
      ],
      "metadata": {
        "colab": {
          "base_uri": "https://localhost:8080/"
        },
        "id": "ee5mYSu3cMNx",
        "outputId": "c0ca79e2-dce9-4c3a-dbf9-f7f7bf9e5cb7"
      },
      "execution_count": null,
      "outputs": [
        {
          "output_type": "stream",
          "name": "stderr",
          "text": [
            "[nltk_data] Downloading package punkt_tab to /root/nltk_data...\n",
            "[nltk_data]   Unzipping tokenizers/punkt_tab.zip.\n"
          ]
        },
        {
          "output_type": "execute_result",
          "data": {
            "text/plain": [
              "True"
            ]
          },
          "metadata": {},
          "execution_count": 15
        }
      ]
    },
    {
      "cell_type": "code",
      "source": [
        "# Tokenizing the sentences for Word2Vec\n",
        "tokenized_text = [word_tokenize(doc.lower()) for doc in df[\"Text\"]]"
      ],
      "metadata": {
        "id": "DJW6aMbyb92k"
      },
      "execution_count": null,
      "outputs": []
    },
    {
      "cell_type": "code",
      "source": [
        "# Train Word2Vec model\n",
        "word2vec_model = Word2Vec(sentences=tokenized_text, vector_size=100, window=5, min_count=1, workers=4)"
      ],
      "metadata": {
        "id": "QB1RJSHdcBHw"
      },
      "execution_count": null,
      "outputs": []
    },
    {
      "cell_type": "code",
      "source": [
        "# Get vector for a word\n",
        "word = \"ai\"\n",
        "if word in word2vec_model.wv:\n",
        "    print(f\"\\nWord2Vec vector for '{word}':\")\n",
        "    print(word2vec_model.wv[word])\n",
        "else:\n",
        "    print(f\"\\nWord '{word}' not found in Word2Vec vocabulary.\")"
      ],
      "metadata": {
        "colab": {
          "base_uri": "https://localhost:8080/"
        },
        "id": "UuYEiV3WcUaa",
        "outputId": "502a2b5a-96ab-45b9-a1d5-fe5fb56f2bc3"
      },
      "execution_count": null,
      "outputs": [
        {
          "output_type": "stream",
          "name": "stdout",
          "text": [
            "\n",
            "Word2Vec vector for 'ai':\n",
            "[-5.3622725e-04  2.3643136e-04  5.1033497e-03  9.0092728e-03\n",
            " -9.3029495e-03 -7.1168090e-03  6.4588725e-03  8.9729885e-03\n",
            " -5.0154282e-03 -3.7633716e-03  7.3805046e-03 -1.5334714e-03\n",
            " -4.5366134e-03  6.5540518e-03 -4.8601604e-03 -1.8160177e-03\n",
            "  2.8765798e-03  9.9187379e-04 -8.2852151e-03 -9.4488179e-03\n",
            "  7.3117660e-03  5.0702621e-03  6.7576934e-03  7.6286553e-04\n",
            "  6.3508903e-03 -3.4053659e-03 -9.4640139e-04  5.7685734e-03\n",
            " -7.5216377e-03 -3.9361035e-03 -7.5115822e-03 -9.3004224e-04\n",
            "  9.5381187e-03 -7.3191668e-03 -2.3337686e-03 -1.9377411e-03\n",
            "  8.0774371e-03 -5.9308959e-03  4.5162440e-05 -4.7537340e-03\n",
            " -9.6035507e-03  5.0072931e-03 -8.7595852e-03 -4.3918253e-03\n",
            " -3.5099984e-05 -2.9618145e-04 -7.6612402e-03  9.6147433e-03\n",
            "  4.9820580e-03  9.2331432e-03 -8.1579173e-03  4.4957981e-03\n",
            " -4.1370760e-03  8.2453608e-04  8.4986202e-03 -4.4621765e-03\n",
            "  4.5175003e-03 -6.7869602e-03 -3.5484887e-03  9.3985079e-03\n",
            " -1.5776526e-03  3.2137157e-04 -4.1406299e-03 -7.6826881e-03\n",
            " -1.5080082e-03  2.4697948e-03 -8.8802696e-04  5.5336617e-03\n",
            " -2.7429771e-03  2.2600652e-03  5.4557943e-03  8.3459532e-03\n",
            " -1.4537406e-03 -9.2081428e-03  4.3705525e-03  5.7178497e-04\n",
            "  7.4419081e-03 -8.1328274e-04 -2.6384138e-03 -8.7530091e-03\n",
            " -8.5655687e-04  2.8265631e-03  5.4014288e-03  7.0526563e-03\n",
            " -5.7031214e-03  1.8588197e-03  6.0888636e-03 -4.7980510e-03\n",
            " -3.1072604e-03  6.7976294e-03  1.6314756e-03  1.8991709e-04\n",
            "  3.4736372e-03  2.1777749e-04  9.6188262e-03  5.0606038e-03\n",
            " -8.9173904e-03 -7.0415605e-03  9.0145587e-04  6.3925339e-03]\n"
          ]
        }
      ]
    }
  ]
}
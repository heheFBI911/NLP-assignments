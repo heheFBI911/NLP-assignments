{
  "nbformat": 4,
  "nbformat_minor": 0,
  "metadata": {
    "colab": {
      "provenance": []
    },
    "kernelspec": {
      "name": "python3",
      "display_name": "Python 3"
    },
    "language_info": {
      "name": "python"
    }
  },
  "cells": [
    {
      "cell_type": "code",
      "execution_count": 1,
      "metadata": {
        "id": "EDKJ5uAvQTkC"
      },
      "outputs": [],
      "source": [
        "import torch\n",
        "import torch.nn as nn\n",
        "import torch.nn.functional as F\n",
        "import math"
      ]
    },
    {
      "cell_type": "code",
      "source": [
        "# 1. Positional Encoding\n",
        "class PositionalEncoding(nn.Module):\n",
        "    def __init__(self, d_model, max_len=5000):\n",
        "        super(PositionalEncoding, self).__init__()\n",
        "        pe = torch.zeros(max_len, d_model)\n",
        "        position = torch.arange(0, max_len, dtype=torch.float).unsqueeze(1)\n",
        "        div_term = torch.exp(torch.arange(0, d_model, 2).float() * (-math.log(10000.0) / d_model))\n",
        "        pe[:, 0::2] = torch.sin(position * div_term)\n",
        "        pe[:, 1::2] = torch.cos(position * div_term)\n",
        "        self.pe = pe.unsqueeze(0)\n",
        "\n",
        "    def forward(self, x):\n",
        "        return x + self.pe[:, :x.size(1)].to(x.device)"
      ],
      "metadata": {
        "id": "6NIPr1K3QtLl"
      },
      "execution_count": 2,
      "outputs": []
    },
    {
      "cell_type": "code",
      "source": [
        "# 2. Multi-Head Self-Attention\n",
        "class MultiHeadSelfAttention(nn.Module):\n",
        "    def __init__(self, d_model, num_heads):\n",
        "        super(MultiHeadSelfAttention, self).__init__()\n",
        "        assert d_model % num_heads == 0\n",
        "        self.d_k = d_model // num_heads\n",
        "        self.num_heads = num_heads\n",
        "        self.qkv_linear = nn.Linear(d_model, d_model * 3)\n",
        "        self.fc_out = nn.Linear(d_model, d_model)\n",
        "\n",
        "    def forward(self, x):\n",
        "        B, T, C = x.shape\n",
        "        qkv = self.qkv_linear(x).reshape(B, T, 3, self.num_heads, self.d_k).permute(2, 0, 3, 1, 4)\n",
        "        q, k, v = qkv[0], qkv[1], qkv[2]\n",
        "        scores = (q @ k.transpose(-2, -1)) / math.sqrt(self.d_k)\n",
        "        attn = F.softmax(scores, dim=-1)\n",
        "        out = (attn @ v).transpose(1, 2).contiguous().view(B, T, C)\n",
        "        return self.fc_out(out)"
      ],
      "metadata": {
        "id": "wgsc-FpKQwiZ"
      },
      "execution_count": 3,
      "outputs": []
    },
    {
      "cell_type": "code",
      "source": [
        "# 3. Feed Forward Network\n",
        "class FeedForward(nn.Module):\n",
        "    def __init__(self, d_model, hidden_dim):\n",
        "        super(FeedForward, self).__init__()\n",
        "        self.fc1 = nn.Linear(d_model, hidden_dim)\n",
        "        self.fc2 = nn.Linear(hidden_dim, d_model)\n",
        "\n",
        "    def forward(self, x):\n",
        "        return self.fc2(F.relu(self.fc1(x)))"
      ],
      "metadata": {
        "id": "1G4iyc-uQzq4"
      },
      "execution_count": 4,
      "outputs": []
    },
    {
      "cell_type": "code",
      "source": [
        "# 4. Encoder Layer\n",
        "class TransformerEncoderLayer(nn.Module):\n",
        "    def __init__(self, d_model, num_heads, hidden_dim, dropout=0.1):\n",
        "        super(TransformerEncoderLayer, self).__init__()\n",
        "        self.self_attn = MultiHeadSelfAttention(d_model, num_heads)\n",
        "        self.ffn = FeedForward(d_model, hidden_dim)\n",
        "        self.norm1 = nn.LayerNorm(d_model)\n",
        "        self.norm2 = nn.LayerNorm(d_model)\n",
        "        self.dropout = nn.Dropout(dropout)\n",
        "\n",
        "    def forward(self, x):\n",
        "        attn_out = self.dropout(self.self_attn(self.norm1(x))) + x\n",
        "        ffn_out = self.dropout(self.ffn(self.norm2(attn_out))) + attn_out\n",
        "        return ffn_out"
      ],
      "metadata": {
        "id": "CsqcUM6aQ51h"
      },
      "execution_count": 5,
      "outputs": []
    },
    {
      "cell_type": "code",
      "source": [
        "# 5. Transformer Model\n",
        "class Transformer(nn.Module):\n",
        "    def __init__(self, input_dim, d_model, num_heads, hidden_dim, num_layers):\n",
        "        super(Transformer, self).__init__()\n",
        "        self.embedding = nn.Embedding(input_dim, d_model)\n",
        "        self.pos_encoding = PositionalEncoding(d_model)\n",
        "        self.layers = nn.ModuleList([TransformerEncoderLayer(d_model, num_heads, hidden_dim) for _ in range(num_layers)])\n",
        "        self.fc_out = nn.Linear(d_model, input_dim)\n",
        "\n",
        "    def forward(self, x):\n",
        "        x = self.embedding(x)\n",
        "        x = self.pos_encoding(x)\n",
        "        for layer in self.layers:\n",
        "            x = layer(x)\n",
        "        return self.fc_out(x)"
      ],
      "metadata": {
        "id": "A1-7RU7vQ9ZP"
      },
      "execution_count": 6,
      "outputs": []
    },
    {
      "cell_type": "code",
      "source": [
        "# Example Usage\n",
        "vocab_size = 10000  # Example vocabulary size\n",
        "d_model = 512  # Model dimension\n",
        "num_heads = 8  # Number of attention heads\n",
        "hidden_dim = 2048  # Hidden layer size\n",
        "num_layers = 6  # Number of transformer layers\n",
        "\n",
        "model = Transformer(vocab_size, d_model, num_heads, hidden_dim, num_layers)\n",
        "input_seq = torch.randint(0, vocab_size, (1, 10))  # Random input sequence\n",
        "output = model(input_seq)\n",
        "print(output.shape)  # Should print (1, 10, vocab_size)"
      ],
      "metadata": {
        "colab": {
          "base_uri": "https://localhost:8080/"
        },
        "id": "qvQgKG4yRAlV",
        "outputId": "c25a1e1d-7828-4a7c-fbc1-d437fed96b3b"
      },
      "execution_count": 7,
      "outputs": [
        {
          "output_type": "stream",
          "name": "stdout",
          "text": [
            "torch.Size([1, 10, 10000])\n"
          ]
        }
      ]
    }
  ]
}